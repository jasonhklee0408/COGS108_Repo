{
 "cells": [
  {
   "cell_type": "markdown",
   "metadata": {},
   "source": [
    "# COGS 108 - Final Project Proposal"
   ]
  },
  {
   "cell_type": "markdown",
   "metadata": {},
   "source": [
    "- Hien Bui\n",
    "- Samantha Lin\n",
    "- Felicia Chan\n",
    "- Jason Lee"
   ]
  },
  {
   "cell_type": "markdown",
   "metadata": {},
   "source": [
    "# Research Question"
   ]
  },
  {
   "cell_type": "markdown",
   "metadata": {},
   "source": [
    "How does distance, the time of day, and climate, specifically weather and  temperature affect the prices of Uber and Lyft rides in Boston’s hotspots? Additionally, how can we utilize these variables to predict the prices of Uber and Lyft rides in Boston’s hotspots?"
   ]
  },
  {
   "cell_type": "markdown",
   "metadata": {},
   "source": [
    "## Background and Prior Work"
   ]
  },
  {
   "cell_type": "markdown",
   "metadata": {},
   "source": [
    "Traditional transportation services like taxis have existed for decades. However, digital advancements have led to the rise of transportation services that can be booked and tracked digitally. Uber and Lyft are both companies that provide mobility as a service (MaaS), allowing users to plan and book transportation services through. Users can request rides from drivers on the Uber or Lyft app, the time of arrival is estimated and displayed, and customers can even rate the quality of the ride afterwards. Ride fares are then charged to the user’s preferred payment method. If you’ve ever used either of these services multiple times, you can see that your fare can change with each ride. Since the pricing of the ride is automatically calculated based on a number of different factors such as location, time, distance, etc., this leads to wildly varying prices. Our team aims to understand these different factors to predict the price of the fares. \n",
    "\n",
    "Some prior work researched include the paper “Modeling and Analysis of Uber’s Rider Pricing”, where researchers use the Uber API to gather real-time operational data. They analyzed the data of a number of different factors–including location, distance, and weather as mentioned previously– and calculated the impact and importance of those factors on ride payments. Similar findings about Uber and Lyft data are presented in some other GitHub projects. In a GitHub project by user alfafimel, the team seeks to use Uber and Lyft data to understand trip prices, perform exploratory data analysis, and create data visualizations.\n",
    "\n",
    "https://github.com/alfafimel/PREDICTION-OF-CAB-PRICES-UBER-LYFT-\n",
    "https://www.researchgate.net/publication/338438722_Modeling_and_Analysis_of_Uber's_Rider_Pricing\n"
   ]
  },
  {
   "cell_type": "markdown",
   "metadata": {},
   "source": [
    "# Hypothesis\n"
   ]
  },
  {
   "cell_type": "markdown",
   "metadata": {},
   "source": [
    "We hypothesize that colder temperatures, rain/snow and peak hours will have a positive correlation with the prices of Uber and Lyft rides in Boston’s hotspots. This is because we believe there would be a higher demand for rides under these conditions. We also predict that there will be a positive correlation between distance and the prices of Uber and Lyft rides in Boston’s hotspots."
   ]
  },
  {
   "cell_type": "markdown",
   "metadata": {},
   "source": [
    "# Data"
   ]
  },
  {
   "cell_type": "markdown",
   "metadata": {},
   "source": [
    "For cab_rides dataset, the variables [distance, price, surge_multiplier] will be stored as float. For time_stamp, it will be stored as datetime (if possible to convert), and the remaining variables ([cab_type, source, id, product_id, name]) will be stored as string. After removing all observations which contain a null value, the remaining observations is 637976. We will use these 637976 observations for our research. The observations records the history of Uber and Lyft rides throughout a week of November’18 in Boston. Within the dataset, it contains the distance of the ride, type of cab (Uber/Lyft), time when the ride occurred, destination, taking off point, how much it cost for the ride, any multiplier to the cost, what kind of ride product is it, etc. in a sense, the observation records every single transaction of Uber and Lyft rides with transaction details. \n",
    "\n",
    "For weather dataset, the variables [temp, clouds, pressure, rain, humidity, wind] will be stored as floats. For time_stamp, it will be stored as datetime (if possible to convert). For location, it will be stored as string. For weathers dataset, dropping any observations that contains null value would result in 894 observations, we will keep these observations in order to combine the weathers and cab_rides dataset for our research. The observation records the weather of specific timestamps at major Boston locations, which records the temperature, location, cloud, pressure, time stamp, humidity, and windspeed. The observations are recorded data of the weather throughout a location at a given time. \n",
    "\n",
    "Dataset Source: https://www.kaggle.com/datasets/ravi72munde/uber-lyft-cab-prices?select=cab_rides.csv"
   ]
  },
  {
   "cell_type": "markdown",
   "metadata": {},
   "source": [
    "# Ethics & Privacy"
   ]
  },
  {
   "cell_type": "markdown",
   "metadata": {},
   "source": [
    "The dataset we used is publicly sourced from Kaggle, which is an online community for sharing datasets. The data itself is sourced from API queries at regular intervals from Uber and Lyft from select high population-density locations in Boston in 2018 for a week between the end of November and the beginning of December. The data consists of simulated prices for given distances and times throughout 1 week. Thus, our data does not include information about real rides that were taken, but simply rides that were calculated by Uber and Lyft if one were to schedule one. Since our data was sourced through API calls of simulated calculations, we can ignore the possibility of privacy violation (as there were no real consumers involved) and voluntary bias, as the data was not collected through surveys or volunteers. Though the data is ethically sourced, there are some other biases involved in our data. \n",
    "\t\n",
    "One of the biases in our data resides in the location from which our data is collected. \n",
    "The data is collected from a handful of selected hotspot locations in Boston using the following map (linked below). Thus, this data is not representative of the entire United States, or even the entirety of Boston, but simply certain populated areas that are likely to have high volumes of rideshare traffic. Also, our data was collected for 1 week from the end of November to the beginning of December in 2018. Thus, the data cannot be generalized to represent all of 2018. Because of the specific week selected, there is likely to be a higher volume of rideshares due to holidays and the resulting increase in travel. Our data is also sourced from Uber and Lyft rides only, so our analysis cannot be generalized to represent other smaller rideshare services like Via or Flywheel. However, Uber and Lyft make up a vast majority of ridesharing, so our results still provide significant insight regarding the rideshare industry. Aside from these factors, the data does not discriminate towards any particular type of person or population. With these factors in mind, our analysis aims to simply analyze the relationship between weather and pricing of rideshares for Uber and Lyft, while taking into consideration other possible factors.\n",
    "\n",
    "https://www.google.com/maps/d/u/0/viewer?mid=1CoeBbhbf59z8EopJGvMJxEe1NNo&ll=42.45357621635435%2C-71.21848534999998&z=10\n"
   ]
  },
  {
   "cell_type": "markdown",
   "metadata": {},
   "source": [
    "# Team Expectations "
   ]
  },
  {
   "cell_type": "markdown",
   "metadata": {},
   "source": [
    "* Group chat discussing meeting times\n",
    "* Reach out at least 1 week before due date if need help for section\n",
    "* Notify team after doing work/changing code\n",
    "* Add comments to code to make it easier for teammates to read changes\n",
    "* Try to reach out to other teammates with their work; helps with understanding the project more as a whole\n",
    "* Notify team before changing other teammates code"
   ]
  },
  {
   "cell_type": "markdown",
   "metadata": {},
   "source": [
    "# Project Timeline Proposal"
   ]
  },
  {
   "cell_type": "markdown",
   "metadata": {},
   "source": [
    "| Meeting Date  | Meeting Time| Completed Before Meeting  | Discuss at Meeting |\n",
    "|---|---|---|---|\n",
    "| 10/24  |  9 PM | Project proposal  | Discuss and distribute tasks to start eda and analysis of dataset | \n",
    "| 10/31  |  7 PM |  Work from last meeting | Discuss results, concerns, redistribute remainder of tasks for checkpoint 1 | \n",
    "| 11/7  | 7 PM  | Checkpoint 1  | Discuss and distribute tasks to complete Checkpoint 2 tasks |\n",
    "| 11/14  | 7 PM  | Work from last meeting | Discuss results, concerns, redistribute remainder of tasks for checkpoint 2  |\n",
    "| 11/21  | 7 PM  | Checkpoint 2 | Discuss and distribute tasks to complete remainder of Project |\n",
    "| 11/28 | 7 PM  | Work from last meeting | Discuss results, concerns, redistribute remainder of tasks for remainder of Project |\n",
    "| 12/5 | 7 PM  | Majority of Project | Review overall project, run through each section together and approve of each section, distribute tasks for potential cleaning and revision |\n",
    "| 12/9  | Before 11:59 PM  | Entire Project | Turn in Project and Group Surveys |"
   ]
  },
  {
   "cell_type": "code",
   "execution_count": null,
   "metadata": {},
   "outputs": [],
   "source": []
  }
 ],
 "metadata": {
  "kernelspec": {
   "display_name": "Python 3.8.10 64-bit (microsoft store)",
   "language": "python",
   "name": "python3"
  },
  "language_info": {
   "codemirror_mode": {
    "name": "ipython",
    "version": 3
   },
   "file_extension": ".py",
   "mimetype": "text/x-python",
   "name": "python",
   "nbconvert_exporter": "python",
   "pygments_lexer": "ipython3",
   "version": "3.8.10"
  },
  "vscode": {
   "interpreter": {
    "hash": "a4d954d24b0a78070d7fc4e219a3177e52d4e9239b04a9f963b2231c2defab03"
   }
  }
 },
 "nbformat": 4,
 "nbformat_minor": 2
}
